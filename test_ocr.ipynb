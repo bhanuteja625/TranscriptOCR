{
 "cells": [
  {
   "cell_type": "code",
   "execution_count": 2,
   "metadata": {},
   "outputs": [],
   "source": [
    "from pdf2image import convert_from_path\n",
    "import os\n",
    "\n",
    "from paddleocr import PaddleOCR\n",
    "\n",
    "from PIL import Image, ImageDraw\n",
    "\n",
    "import numpy as np\n",
    "import pandas as pd\n",
    "\n",
    "import time\n",
    "\n",
    "import math\n",
    "from typing import Tuple, Union\n",
    "from statistics import mode, mean\n",
    "\n",
    "import re\n",
    "from fuzzywuzzy import fuzz\n",
    "\n",
    "from utils import TranscriptOCR\n",
    "\n",
    "import os\n",
    "os.environ[\"KMP_DUPLICATE_LIB_OK\"]=\"TRUE\""
   ]
  },
  {
   "cell_type": "code",
   "execution_count": 3,
   "metadata": {},
   "outputs": [
    {
     "name": "stdout",
     "output_type": "stream",
     "text": [
      "[2024/04/24 22:40:23] ppocr DEBUG: Namespace(help='==SUPPRESS==', use_gpu=False, use_xpu=False, use_npu=False, ir_optim=True, use_tensorrt=False, min_subgraph_size=15, precision='fp32', gpu_mem=500, gpu_id=0, image_dir=None, page_num=0, det_algorithm='DB', det_model_dir='C:\\\\Users\\\\bhanu/.paddleocr/whl\\\\det\\\\en\\\\en_PP-OCRv3_det_infer', det_limit_side_len=960, det_limit_type='max', det_box_type='quad', det_db_thresh=0.3, det_db_box_thresh=0.6, det_db_unclip_ratio=1.5, max_batch_size=10, use_dilation=False, det_db_score_mode='fast', det_east_score_thresh=0.8, det_east_cover_thresh=0.1, det_east_nms_thresh=0.2, det_sast_score_thresh=0.5, det_sast_nms_thresh=0.2, det_pse_thresh=0, det_pse_box_thresh=0.85, det_pse_min_area=16, det_pse_scale=1, scales=[8, 16, 32], alpha=1.0, beta=1.0, fourier_degree=5, rec_algorithm='SVTR_LCNet', rec_model_dir='C:\\\\Users\\\\bhanu/.paddleocr/whl\\\\rec\\\\en\\\\en_PP-OCRv4_rec_infer', rec_image_inverse=True, rec_image_shape='3, 48, 320', rec_batch_num=6, max_text_length=25, rec_char_dict_path='c:\\\\Users\\\\bhanu\\\\anaconda3\\\\envs\\\\TorchEnv\\\\Lib\\\\site-packages\\\\paddleocr\\\\ppocr\\\\utils\\\\en_dict.txt', use_space_char=True, vis_font_path='./doc/fonts/simfang.ttf', drop_score=0.5, e2e_algorithm='PGNet', e2e_model_dir=None, e2e_limit_side_len=768, e2e_limit_type='max', e2e_pgnet_score_thresh=0.5, e2e_char_dict_path='./ppocr/utils/ic15_dict.txt', e2e_pgnet_valid_set='totaltext', e2e_pgnet_mode='fast', use_angle_cls=False, cls_model_dir='C:\\\\Users\\\\bhanu/.paddleocr/whl\\\\cls\\\\ch_ppocr_mobile_v2.0_cls_infer', cls_image_shape='3, 48, 192', label_list=['0', '180'], cls_batch_num=6, cls_thresh=0.9, enable_mkldnn=False, cpu_threads=10, use_pdserving=False, warmup=False, sr_model_dir=None, sr_image_shape='3, 32, 128', sr_batch_num=1, draw_img_save_dir='./inference_results', save_crop_res=False, crop_res_save_dir='./output', use_mp=False, total_process_num=1, process_id=0, benchmark=False, save_log_path='./log_output/', show_log=True, use_onnx=False, output='./output', table_max_len=488, table_algorithm='TableAttn', table_model_dir=None, merge_no_span_structure=True, table_char_dict_path=None, layout_model_dir=None, layout_dict_path=None, layout_score_threshold=0.5, layout_nms_threshold=0.5, kie_algorithm='LayoutXLM', ser_model_dir=None, re_model_dir=None, use_visual_backbone=True, ser_dict_path='../train_data/XFUND/class_list_xfun.txt', ocr_order_method=None, mode='structure', image_orientation=False, layout=True, table=True, ocr=True, recovery=False, use_pdf2docx_api=False, invert=False, binarize=False, alphacolor=(255, 255, 255), lang='en', det=True, rec=True, type='ocr', ocr_version='PP-OCRv4', structure_version='PP-StructureV2')\n",
      "[2024/04/24 22:40:25] ppocr WARNING: Since the angle classifier is not initialized, it will not be used during the forward process\n",
      "[2024/04/24 22:40:26] ppocr DEBUG: dt_boxes num : 75, elapsed : 0.8479785919189453\n",
      "[2024/04/24 22:40:39] ppocr DEBUG: rec_res num  : 75, elapsed : 13.135069370269775\n"
     ]
    },
    {
     "data": {
      "text/plain": [
       "{'name': 'NANDINA BHANU TEJA',\n",
       " 'university': 'VELAGAPUDI RAMAKRISHNA SIDDHARTHA ENGINEERING COLLEGE',\n",
       " 'course': 'BRANCH:MECHANICAL ENGINEERING',\n",
       " 'course table': {' COURSE CODE': {0: '17MA1101',\n",
       "   1: '17CH1102A',\n",
       "   2: '17CS1103',\n",
       "   3: '17ME1104A',\n",
       "   4: '17ME1105',\n",
       "   5: '17MC1106B',\n",
       "   6: '*17MC1107',\n",
       "   7: '17CH1151',\n",
       "   8: '17CS1152'},\n",
       "  ' TITLE OF THE COURSE': {0: 'MATRICES AND DIFFERENTIAL CALCULUS',\n",
       "   1: 'ENGINEERING CHEMISTRY',\n",
       "   2: 'PROBLEM SOLVING METHODS',\n",
       "   3: 'ENGINEERING MECHANICS-1',\n",
       "   4: 'ENGINEERING GRAPHICS',\n",
       "   5: 'PROFESSIONAL ETHICS & HUMAN VALUES',\n",
       "   6: 'INDUCTION PROGRAME',\n",
       "   7: 'ENGINEERING CHEMISTRY LAB',\n",
       "   8: 'COMPUTING AND PERIPHERALS LAB'},\n",
       "  ' CREDITS': {0: '4.0',\n",
       "   1: '3.0',\n",
       "   2: '3.0',\n",
       "   3: '3.0',\n",
       "   4: '4.0',\n",
       "   5: nan,\n",
       "   6: 'SATISFACTORY',\n",
       "   7: '1.5',\n",
       "   8: '1.0'},\n",
       "  ' GRADE': {0: 'Ex',\n",
       "   1: 'Ex',\n",
       "   2: 'A+',\n",
       "   3: 'Ex',\n",
       "   4: 'A+',\n",
       "   5: 'A+',\n",
       "   6: 'SATISFACTORY',\n",
       "   7: 'Ex',\n",
       "   8: 'Ex'}},\n",
       " 'gpas': {'SGPA:': [[688.0, 1384.0, 25.0, 56.0], '9.64'],\n",
       "  'CGPA': [[919.0, 1382.0, 25.0, 56.0], '9.64']}}"
      ]
     },
     "execution_count": 3,
     "metadata": {},
     "output_type": "execute_result"
    }
   ],
   "source": [
    "transcriptocr = TranscriptOCR()\n",
    "\n",
    "transcriptocr.extract_json('test.jpg')"
   ]
  },
  {
   "cell_type": "code",
   "execution_count": 5,
   "metadata": {},
   "outputs": [],
   "source": [
    "transcriptocr.draw_boxes('test.jpg')"
   ]
  },
  {
   "cell_type": "code",
   "execution_count": 11,
   "metadata": {},
   "outputs": [],
   "source": [
    "import pandas as pd\n",
    "\n",
    "file_names = {'Sampled_datasets\\data1.csv': '_d1', 'Sampled_datasets\\data2.csv': '_d2'}\n",
    "\n",
    "# Initialize an empty list to store DataFrames\n",
    "dfs = []\n",
    "\n",
    "for file, ex in file_names.items():\n",
    "    df = pd.read_csv(file)\n",
    "    df = df[['ocr', 'bbox', 'transcription']]\n",
    "    df['ocr'] = df['ocr'].apply(lambda x: x.split('/')[-1].split('-')[-1].split('.')[0] + ex + '.' + x.split('.')[-1])\n",
    "    dfs.append(df)\n",
    "\n",
    "# Concatenate the DataFrames\n",
    "combined_df = pd.concat(dfs, ignore_index=True)\n",
    "\n",
    "combined_df = combined_df.sample(frac=1).reset_index(drop=True)\n",
    "\n",
    "# Save the combined DataFrame to a new CSV file\n",
    "combined_df.to_csv('Sampled_datasets\\data.csv', index=False)"
   ]
  },
  {
   "cell_type": "code",
   "execution_count": 13,
   "metadata": {},
   "outputs": [
    {
     "name": "stdout",
     "output_type": "stream",
     "text": [
      "All images from the CSV file are present in the Images folder: True\n"
     ]
    },
    {
     "ename": "",
     "evalue": "",
     "output_type": "error",
     "traceback": [
      "\u001b[1;31mThe Kernel crashed while executing code in the current cell or a previous cell. \n",
      "\u001b[1;31mPlease review the code in the cell(s) to identify a possible cause of the failure. \n",
      "\u001b[1;31mClick <a href='https://aka.ms/vscodeJupyterKernelCrash'>here</a> for more info. \n",
      "\u001b[1;31mView Jupyter <a href='command:jupyter.viewOutput'>log</a> for further details."
     ]
    }
   ],
   "source": [
    "import os\n",
    "import pandas as pd\n",
    "\n",
    "# Path to the Images folder\n",
    "images_folder = 'Sampled_datasets/Images/'\n",
    "\n",
    "# Read the CSV file\n",
    "df = pd.read_csv('Sampled_datasets/data.csv')\n",
    "\n",
    "# Get a list of all image names from the CSV file\n",
    "image_names_csv = df['ocr'].apply(lambda x: x.split('/')[-1].split('-')[-1].split('.')[0]).tolist()\n",
    "\n",
    "# Get a list of all image names from the Images folder\n",
    "image_names_folder = [f.split('.')[0] for f in os.listdir(images_folder) if os.path.isfile(os.path.join(images_folder, f))]\n",
    "\n",
    "# Check if every image name from the CSV file is in the Images folder\n",
    "all_images_in_folder = all(image_name in image_names_folder for image_name in image_names_csv)\n",
    "\n",
    "print(\"All images from the CSV file are present in the Images folder:\", all_images_in_folder)\n"
   ]
  },
  {
   "cell_type": "code",
   "execution_count": null,
   "metadata": {},
   "outputs": [],
   "source": []
  }
 ],
 "metadata": {
  "kernelspec": {
   "display_name": "TorchEnv",
   "language": "python",
   "name": "torchenv"
  },
  "language_info": {
   "codemirror_mode": {
    "name": "ipython",
    "version": 3
   },
   "file_extension": ".py",
   "mimetype": "text/x-python",
   "name": "python",
   "nbconvert_exporter": "python",
   "pygments_lexer": "ipython3",
   "version": "3.11.5"
  }
 },
 "nbformat": 4,
 "nbformat_minor": 2
}
